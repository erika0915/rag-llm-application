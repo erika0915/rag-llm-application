{
 "cells": [
  {
   "cell_type": "code",
   "execution_count": null,
   "id": "7976fadf",
   "metadata": {},
   "outputs": [],
   "source": [
    "%pip install langchain-openai python-dotenv"
   ]
  },
  {
   "cell_type": "code",
   "execution_count": 2,
   "id": "fde702e6",
   "metadata": {},
   "outputs": [
    {
     "data": {
      "text/plain": [
       "True"
      ]
     },
     "execution_count": 2,
     "metadata": {},
     "output_type": "execute_result"
    }
   ],
   "source": [
    "from dotenv import load_dotenv\n",
    "load_dotenv()"
   ]
  },
  {
   "cell_type": "code",
   "execution_count": 3,
   "id": "902ac6d1",
   "metadata": {},
   "outputs": [
    {
     "data": {
      "text/plain": [
       "AIMessage(content='인프런은 다양한 주제와 분야의 강의를 제공하는 온라인 교육 플랫폼입니다. 예를 들어, 프로그래밍, 마케팅, 디자인, 비즈니스, 취미 등 다양한 분야의 강의가 있습니다. 또한, 강의는 초급부터 고급까지 다양한 수준으로 제공되며, 실무에 필요한 실무 강의도 많이 있습니다. 인프런에서 찾고자 하는 주제나 분야에 맞는 강의를 선택하여 학습하실 수 있습니다.', additional_kwargs={'refusal': None}, response_metadata={'token_usage': {'completion_tokens': 187, 'prompt_tokens': 26, 'total_tokens': 213, 'completion_tokens_details': {'accepted_prediction_tokens': 0, 'audio_tokens': 0, 'reasoning_tokens': 0, 'rejected_prediction_tokens': 0}, 'prompt_tokens_details': {'audio_tokens': 0, 'cached_tokens': 0}}, 'model_name': 'gpt-3.5-turbo-0125', 'system_fingerprint': None, 'id': 'chatcmpl-CCT5We2vPBJYB3PkBHJDTtzGnynUT', 'service_tier': 'default', 'finish_reason': 'stop', 'logprobs': None}, id='run--36dd9ee5-a977-4b71-8488-20bd00dca76a-0', usage_metadata={'input_tokens': 26, 'output_tokens': 187, 'total_tokens': 213, 'input_token_details': {'audio': 0, 'cache_read': 0}, 'output_token_details': {'audio': 0, 'reasoning': 0}})"
      ]
     },
     "execution_count": 3,
     "metadata": {},
     "output_type": "execute_result"
    }
   ],
   "source": [
    "from langchain_openai import ChatOpenAI\n",
    "llm=ChatOpenAI()\n",
    "llm.invoke(\"인프런에 어떤 강의가 있나요?\")"
   ]
  }
 ],
 "metadata": {
  "kernelspec": {
   "display_name": "llm-application",
   "language": "python",
   "name": "python3"
  },
  "language_info": {
   "codemirror_mode": {
    "name": "ipython",
    "version": 3
   },
   "file_extension": ".py",
   "mimetype": "text/x-python",
   "name": "python",
   "nbconvert_exporter": "python",
   "pygments_lexer": "ipython3",
   "version": "3.10.18"
  }
 },
 "nbformat": 4,
 "nbformat_minor": 5
}
